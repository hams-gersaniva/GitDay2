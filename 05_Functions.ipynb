{
  "nbformat": 4,
  "nbformat_minor": 0,
  "metadata": {
    "colab": {
      "provenance": [],
      "include_colab_link": true
    },
    "kernelspec": {
      "name": "python3",
      "display_name": "Python 3"
    },
    "language_info": {
      "name": "python"
    }
  },
  "cells": [
    {
      "cell_type": "markdown",
      "metadata": {
        "id": "view-in-github",
        "colab_type": "text"
      },
      "source": [
        "<a href=\"https://colab.research.google.com/github/hams-gersaniva/GitDay2/blob/master/05_Functions.ipynb\" target=\"_parent\"><img src=\"https://colab.research.google.com/assets/colab-badge.svg\" alt=\"Open In Colab\"/></a>"
      ]
    },
    {
      "cell_type": "markdown",
      "source": [
        "# Introduction to Python\n",
        "\n",
        "**Outline**:\n",
        "- How to use Google Colaboratory (aka Google Colab) to run Jupyter Notebooks\n",
        "- Basics of Python Programming\n",
        "- Understanding Python Data Types\n",
        "\n",
        "**The following references were used to build this notebook's content:**\n",
        "- *Lutz, M. (2013). Learning python: Powerful object-oriented programming. \" O'Reilly Media, Inc.\".*\n",
        "- *Zelle, J. M. (2004). Python programming: an introduction to computer science. Franklin, Beedle & Associates, Inc..*"
      ],
      "metadata": {
        "id": "3OpepD22jRWe"
      }
    },
    {
      "cell_type": "markdown",
      "source": [
        "---"
      ],
      "metadata": {
        "id": "FKLzh3KulrGS"
      }
    },
    {
      "cell_type": "markdown",
      "source": [
        "# Function\n",
        "\n",
        "A **function** is a block of code that performs a specific set of tasks. A function is made so that if the tasks it performs will be used in the future, there is no need to write the code all over again. You just call immediately the function. A function can accept inputs called *parameters* that can be used inside the function. It can also *return* an output. It is like the function that we know in Mathematics - you have an *input* $x$ that is used to calculate the *output* $y$."
      ],
      "metadata": {
        "id": "HYSdLsc_vaoU"
      }
    },
    {
      "cell_type": "markdown",
      "source": [
        "#### Example:\n",
        "\n",
        "Write a function `return_max_number()` that accepts two numbers and returns the higher number."
      ],
      "metadata": {
        "id": "SELcc9aq2VD6"
      }
    },
    {
      "cell_type": "markdown",
      "source": [
        "**Defining the function**"
      ],
      "metadata": {
        "id": "NZO4441Op0Qt"
      }
    },
    {
      "cell_type": "code",
      "source": [
        "def return_max_number(num1, num2): # Like a function in mathematics, it needs input values like num1 and num2\n",
        "    if num1 >= num2:\n",
        "        higher = num1\n",
        "    else:\n",
        "        higher = num2\n",
        "\n",
        "    return higher # a function can also output (or return) a value"
      ],
      "metadata": {
        "id": "Evon2Og5veob"
      },
      "execution_count": null,
      "outputs": []
    },
    {
      "cell_type": "markdown",
      "source": [
        "- **Function name:** `return_max_number`\n",
        "- **Function parameters:** `num1` and `num2`"
      ],
      "metadata": {
        "id": "vQSQrTQrrpAZ"
      }
    },
    {
      "cell_type": "markdown",
      "source": [
        "**Calling/Using the function:**"
      ],
      "metadata": {
        "id": "NMEwgDvlp5G1"
      }
    },
    {
      "cell_type": "code",
      "source": [
        "catcher = return_max_number(num1=10, num2=5)\n",
        "catcher"
      ],
      "metadata": {
        "id": "aPH_5OXK2api"
      },
      "execution_count": null,
      "outputs": []
    },
    {
      "cell_type": "code",
      "source": [
        "catcher = return_max_number(num1=4, num2=4)\n",
        "catcher"
      ],
      "metadata": {
        "colab": {
          "base_uri": "https://localhost:8080/"
        },
        "id": "Fr31O7K5rKcy",
        "outputId": "aa93865d-92e5-4412-a44d-c71de681c42c"
      },
      "execution_count": null,
      "outputs": [
        {
          "output_type": "execute_result",
          "data": {
            "text/plain": [
              "10"
            ]
          },
          "metadata": {},
          "execution_count": 7
        }
      ]
    },
    {
      "cell_type": "code",
      "source": [
        "catcher = return_max_number(num1=12, num2=15)\n",
        "catcher"
      ],
      "metadata": {
        "id": "g2eb-c3EqPKo"
      },
      "execution_count": null,
      "outputs": []
    },
    {
      "cell_type": "code",
      "source": [
        "return_max_number()"
      ],
      "metadata": {
        "id": "zh7Hgrm7shYL"
      },
      "execution_count": null,
      "outputs": []
    },
    {
      "cell_type": "markdown",
      "source": [
        "**TRY THIS!**\n",
        "> Write a function named `return_max_of_3` that accepts three numbers and returns the highest of the three numbers."
      ],
      "metadata": {
        "id": "rEM0H89zDBbf"
      }
    },
    {
      "cell_type": "code",
      "source": [
        "# Write your code here\n",
        "def return_max_of_3(num1, num2, num3):\n",
        "    # tasks\n",
        ""
      ],
      "metadata": {
        "id": "3p8fb_U1EWLk"
      },
      "execution_count": null,
      "outputs": []
    },
    {
      "cell_type": "markdown",
      "source": [
        "---"
      ],
      "metadata": {
        "id": "2sloWS-CGEmT"
      }
    },
    {
      "cell_type": "markdown",
      "source": [
        "END OF FILE"
      ],
      "metadata": {
        "id": "gI-6zbJ0GHlj"
      }
    }
  ]
}