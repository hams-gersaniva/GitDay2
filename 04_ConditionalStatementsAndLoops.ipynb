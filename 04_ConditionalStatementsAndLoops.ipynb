{
  "nbformat": 4,
  "nbformat_minor": 0,
  "metadata": {
    "colab": {
      "provenance": [],
      "include_colab_link": true
    },
    "kernelspec": {
      "name": "python3",
      "display_name": "Python 3"
    },
    "language_info": {
      "name": "python"
    }
  },
  "cells": [
    {
      "cell_type": "markdown",
      "metadata": {
        "id": "view-in-github",
        "colab_type": "text"
      },
      "source": [
        "<a href=\"https://colab.research.google.com/github/hams-gersaniva/GitDay2/blob/master/04_ConditionalStatementsAndLoops.ipynb\" target=\"_parent\"><img src=\"https://colab.research.google.com/assets/colab-badge.svg\" alt=\"Open In Colab\"/></a>"
      ]
    },
    {
      "cell_type": "markdown",
      "source": [
        "# Introduction to Python\n",
        "\n",
        "**Outline**:\n",
        "- How to use Google Colaboratory (aka Google Colab) to run Jupyter Notebooks\n",
        "- Basics of Python Programming\n",
        "- Understanding Python Data Types\n",
        "\n",
        "**The following references were used to build this notebook's content:**\n",
        "- *Lutz, M. (2013). Learning python: Powerful object-oriented programming. \" O'Reilly Media, Inc.\".*\n",
        "- *Zelle, J. M. (2004). Python programming: an introduction to computer science. Franklin, Beedle & Associates, Inc..*"
      ],
      "metadata": {
        "id": "3OpepD22jRWe"
      }
    },
    {
      "cell_type": "markdown",
      "source": [
        "---"
      ],
      "metadata": {
        "id": "FKLzh3KulrGS"
      }
    },
    {
      "cell_type": "markdown",
      "source": [
        "# Conditional Statements\n",
        "\n",
        "Many algorithms make use of rules to decide whether a specific command should be performed or not. This is where **conditional statements** come in. The *truth value* (`True` or `False`) of a given condition determines if a specific task is to be performed or not.\n",
        "\n",
        "Reserved words `if`, `else` and `elif` are used in conditional statements."
      ],
      "metadata": {
        "id": "6QnNIpD5s3Dh"
      }
    },
    {
      "cell_type": "code",
      "source": [
        "condition = False\n",
        "\n",
        "if condition == True:\n",
        "    print(\"Condition is satisfied.\")\n",
        "else:\n",
        "    print(\"Condition is NOT satisfied.\")"
      ],
      "metadata": {
        "id": "tOkuvCaDs-xy",
        "colab": {
          "base_uri": "https://localhost:8080/"
        },
        "outputId": "16e4ad2f-1506-4653-cfd1-1d61ef1711fd"
      },
      "execution_count": 1,
      "outputs": [
        {
          "output_type": "stream",
          "name": "stdout",
          "text": [
            "Condition is NOT satisfied.\n"
          ]
        }
      ]
    },
    {
      "cell_type": "markdown",
      "source": [
        "#### EXAMPLE:"
      ],
      "metadata": {
        "id": "tr3VlNixKVmg"
      }
    },
    {
      "cell_type": "markdown",
      "source": [
        "Determine if a given number is less than, greater than or equal to 10."
      ],
      "metadata": {
        "id": "AtuSkGZ7Kw1Y"
      }
    },
    {
      "cell_type": "code",
      "source": [
        "number = 9\n",
        "\n",
        "if number > 10:\n",
        "    print(\"Number is greater than 10.\")\n",
        "elif number == 10:\n",
        "    print(\"Number is equal to 10.\")\n",
        "else:\n",
        "    print(\"Number is less than 10.\")"
      ],
      "metadata": {
        "colab": {
          "base_uri": "https://localhost:8080/"
        },
        "id": "PGZjk0w8mnED",
        "outputId": "f51013ac-be6b-4984-c1f7-d4857775c793"
      },
      "execution_count": null,
      "outputs": [
        {
          "output_type": "stream",
          "name": "stdout",
          "text": [
            "Number is less than 10.\n"
          ]
        }
      ]
    },
    {
      "cell_type": "markdown",
      "source": [
        "#### EXAMPLE:"
      ],
      "metadata": {
        "id": "qrRxupRu423-"
      }
    },
    {
      "cell_type": "markdown",
      "source": [
        "Determine if a given word is in a list or not."
      ],
      "metadata": {
        "id": "-txzcVh8LILY"
      }
    },
    {
      "cell_type": "code",
      "source": [
        "word = 'apples'\n",
        "list1 = ['apple', 'orange', 'banana', 'pineapple']\n",
        "\n",
        "if word in list1:\n",
        "    print(\"The word is in the list.\")\n",
        "else:\n",
        "    print(\"The word is NOT in the list.\")"
      ],
      "metadata": {
        "colab": {
          "base_uri": "https://localhost:8080/"
        },
        "id": "1MFkryp6LO0g",
        "outputId": "c97ac19b-fdb5-44ea-bbf9-052eb741481d"
      },
      "execution_count": null,
      "outputs": [
        {
          "output_type": "stream",
          "name": "stdout",
          "text": [
            "The word is NOT in the list.\n"
          ]
        }
      ]
    },
    {
      "cell_type": "markdown",
      "source": [
        "**TRY THIS!**\n",
        "> Write a Python program that can check if a given positive whole number is an odd or even number. If the integer is an even number, the string `Even` is printed. Otherwise, the string `Odd` is printed.\n",
        "\n",
        "**HINT:** Let $x$ be a number. If $x$ modulo $2$ is $0$, then $x$ is even. Otherwise, $x$ is odd."
      ],
      "metadata": {
        "id": "vGC3A1NM32FD"
      }
    },
    {
      "cell_type": "code",
      "source": [
        "# Write your code here\n"
      ],
      "metadata": {
        "id": "F4nJRDeK4GWC"
      },
      "execution_count": null,
      "outputs": []
    },
    {
      "cell_type": "markdown",
      "source": [
        "---"
      ],
      "metadata": {
        "id": "qVoNSpihIQuy"
      }
    },
    {
      "cell_type": "markdown",
      "source": [
        "# Loops\n",
        "\n",
        "*Loops* are common in programming when you want to perform a task over and over again until a certain condition is not anymore satisfied. In Python, there are two ways to perform a loop - the `for` loop and the `while` loop."
      ],
      "metadata": {
        "id": "cQz_Lr3Ns_Iy"
      }
    },
    {
      "cell_type": "markdown",
      "source": [
        "**`while` loop**"
      ],
      "metadata": {
        "id": "DiVnQqbr1jPv"
      }
    },
    {
      "cell_type": "markdown",
      "source": [
        "![picture](https://drive.google.com/uc?export=view&id=1cBo0ulSNPs81FkO-0KI45KQFfX3F_5sx)"
      ],
      "metadata": {
        "id": "GuRlsesnAidj"
      }
    },
    {
      "cell_type": "markdown",
      "source": [
        "#### EXAMPLE:"
      ],
      "metadata": {
        "id": "y5tTLKw99ow1"
      }
    },
    {
      "cell_type": "markdown",
      "source": [
        "The following program shows how a `while` loop is implemented."
      ],
      "metadata": {
        "id": "vuwlOjHv7g1k"
      }
    },
    {
      "cell_type": "code",
      "source": [
        "x = 0\n",
        "\n",
        "while (x < 10):\n",
        "    print(\"Condition satisfied at x={}\".format(x))\n",
        "\n",
        "    # new_x = current_x + 1\n",
        "    x = x + 1\n",
        "\n",
        "# Below is already outside the loop\n",
        "print(\"Condition NOT anymore satisfied at x = {}\".format(x))"
      ],
      "metadata": {
        "id": "CSq0CLGbtGgz",
        "colab": {
          "base_uri": "https://localhost:8080/"
        },
        "outputId": "e44b3a82-62c7-461d-ca65-27058aaa6ac7"
      },
      "execution_count": null,
      "outputs": [
        {
          "output_type": "stream",
          "name": "stdout",
          "text": [
            "Condition satisfied at x=0\n",
            "Condition satisfied at x=1\n",
            "Condition satisfied at x=2\n",
            "Condition satisfied at x=3\n",
            "Condition satisfied at x=4\n",
            "Condition satisfied at x=5\n",
            "Condition satisfied at x=6\n",
            "Condition satisfied at x=7\n",
            "Condition satisfied at x=8\n",
            "Condition satisfied at x=9\n",
            "Condition NOT anymore satisfied at x = 10\n"
          ]
        }
      ]
    },
    {
      "cell_type": "markdown",
      "source": [
        "**`for` loop**"
      ],
      "metadata": {
        "id": "thFbt0WE1otb"
      }
    },
    {
      "cell_type": "markdown",
      "source": [
        "![picture](https://drive.google.com/uc?export=view&id=1CwyIUFMd96aNViY6UqIOpK6B0cMcRZeU)"
      ],
      "metadata": {
        "id": "rTnA_Tt1_Q7b"
      }
    },
    {
      "cell_type": "markdown",
      "source": [
        "#### EXAMPLE:"
      ],
      "metadata": {
        "id": "yykkbBgO9stq"
      }
    },
    {
      "cell_type": "markdown",
      "source": [
        "The following program shows how a `for` loop works."
      ],
      "metadata": {
        "id": "OgkDTv2L8IeS"
      }
    },
    {
      "cell_type": "code",
      "source": [
        "for fruit in ['apple', 'orange', 'banana', 'grape']:\n",
        "    print(fruit)\n"
      ],
      "metadata": {
        "colab": {
          "base_uri": "https://localhost:8080/"
        },
        "id": "_C5THvoO1rdn",
        "outputId": "6612c754-a92d-4eaf-c7d4-c9fb6ba25c4c"
      },
      "execution_count": null,
      "outputs": [
        {
          "output_type": "stream",
          "name": "stdout",
          "text": [
            "apple\n",
            "orange\n",
            "banana\n",
            "grape\n"
          ]
        }
      ]
    },
    {
      "cell_type": "markdown",
      "source": [
        "**TRY THIS!**\n",
        "> Write a Python program that goes through the list `lst = [1, 2, 3, 4, 5, 6, 7, 8, 9, 10, ..., 40]` using a loop and checks whether each element is a multiple of 2, 3, or both.\n",
        "- If the number is a multiple of 2 only, `Multiple of 2` is printed.\n",
        "- If the number is a multiple of 3 only, `Multiple of 3` is printed.\n",
        "- If the number is a multiple of both 2 and 3, `Multiple of 2 and 3` is printed.\n",
        "\n",
        "**Hints:**\n",
        "- Check first if the number is a multiple of both 2 and 3.\n",
        "- Let $x$ be a number.\n",
        "    - If $x$ modulo $6$ is $0$, then $x$ is a multiple of 6.\n",
        "    - If $x$ modulo $3$ is $0$, then $x$ is a multiple of 3.\n",
        "    - If $x$ modulo $2$ is $0$, then $x$ is a multiple of 2."
      ],
      "metadata": {
        "id": "vpn9DL9b933T"
      }
    },
    {
      "cell_type": "code",
      "source": [
        "# Write code here"
      ],
      "metadata": {
        "id": "7fTcpUTOBtEt"
      },
      "execution_count": null,
      "outputs": []
    },
    {
      "cell_type": "markdown",
      "source": [
        "---"
      ],
      "metadata": {
        "id": "l86trVvML4vo"
      }
    },
    {
      "cell_type": "markdown",
      "source": [
        "END OF FILE"
      ],
      "metadata": {
        "id": "y-r8aYY2MDKl"
      }
    }
  ]
}